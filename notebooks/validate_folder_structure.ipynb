{
 "cells": [
  {
   "cell_type": "code",
   "execution_count": 115,
   "id": "c8c1fc0c",
   "metadata": {},
   "outputs": [],
   "source": [
    "import os\n",
    "import json\n",
    "\n",
    "from jsonschema import ValidationError, validate"
   ]
  },
  {
   "cell_type": "code",
   "execution_count": 131,
   "id": "95070e30",
   "metadata": {},
   "outputs": [],
   "source": [
    "schema = {\n",
    "    \"type\": \"object\",\n",
    "    \"properties\": {\n",
    "        \"activity_monitor\": {},\n",
    "        \"CHANGELOG.md\": {},\n",
    "        \"LICENSE.txt\": {},\n",
    "        \"README.md\": {},\n",
    "        \"dataset_description.json\": {},\n",
    "        \"participants.json\": {},\n",
    "        \"participants.tsv\": {\n",
    "           \"const\": \"file\"\n",
    "        }\n",
    "    }\n",
    "}"
   ]
  },
  {
   "cell_type": "code",
   "execution_count": 132,
   "id": "fb78088b",
   "metadata": {},
   "outputs": [],
   "source": [
    "def validate_folder_structure(folder_path):\n",
    "    \"\"\"Validate that a folder structure is valid.\n",
    "    We do this by generating a json tree of the folder and file structure and validating it against a schema.\n",
    "    This will allow us to expand the schema in the future to include more complex folder structures.\n",
    "    Certain folder structures (ones inside of dynamic folders) will not be able to be validated by this method.\n",
    "\n",
    "    Args:\n",
    "        folder_path (str): The path to the folder to validate\n",
    "    Returns:\n",
    "        bool: True if the folder structure is valid, False otherwise\n",
    "    \"\"\"\n",
    "    \n",
    "    def path_to_dict(path):\n",
    "        key = os.path.basename(path)\n",
    "#         key = path\n",
    "        d = {}\n",
    "        \n",
    "        if not os.path.exists(path):\n",
    "            return d\n",
    "        \n",
    "#             d[key] = [path_to_dict(os.path.join(path,x)) for x in os.listdir(path)]\n",
    "        for x in os.listdir(path): \n",
    "            key = os.path.basename(x)\n",
    "            if os.path.isdir(os.path.join(path,x)):\n",
    "                d[key] = path_to_dict(os.path.join(path,x))\n",
    "            else:\n",
    "                d[key] = \"file\"\n",
    "      \n",
    "        return d\n",
    "    \n",
    "    folder_structure_as_dict = path_to_dict(folder_path)\n",
    "    \n",
    "    try:\n",
    "\n",
    "        validate(instance=folder_structure_as_dict, schema=schema)\n",
    "        \n",
    "        return True\n",
    "    except ValidationError as e:\n",
    "        print(e.schema[\"error_msg\"] if \"error_msg\" in e.schema else e.message)\n",
    "        return False\n",
    "    except Exception as error:\n",
    "        print(error)\n",
    "        raise error\n"
   ]
  },
  {
   "cell_type": "code",
   "execution_count": 133,
   "id": "b4947132",
   "metadata": {},
   "outputs": [
    {
     "name": "stdout",
     "output_type": "stream",
     "text": [
      "'files' was expected\n"
     ]
    },
    {
     "data": {
      "text/plain": [
       "False"
      ]
     },
     "execution_count": 133,
     "metadata": {},
     "output_type": "execute_result"
    }
   ],
   "source": [
    "\n",
    "\n",
    "folder_path = os.path.join(ROOT_DIR, 'pyfairdatatools', 'templates', 'high-level-dataset-structure')\n",
    "# folder_path = os.path.join(ROOT_DIR, 'pyfairdatatools', 'tests')\n",
    "\n",
    "\n",
    "\n",
    "validate_folder_structure(folder_path)"
   ]
  },
  {
   "cell_type": "code",
   "execution_count": null,
   "id": "c8d54f95",
   "metadata": {},
   "outputs": [],
   "source": []
  },
  {
   "cell_type": "code",
   "execution_count": null,
   "id": "73703da6",
   "metadata": {},
   "outputs": [],
   "source": []
  }
 ],
 "metadata": {
  "kernelspec": {
   "display_name": "Python 3 (ipykernel)",
   "language": "python",
   "name": "python3"
  },
  "language_info": {
   "codemirror_mode": {
    "name": "ipython",
    "version": 3
   },
   "file_extension": ".py",
   "mimetype": "text/x-python",
   "name": "python",
   "nbconvert_exporter": "python",
   "pygments_lexer": "ipython3",
   "version": "3.11.3"
  }
 },
 "nbformat": 4,
 "nbformat_minor": 5
}
